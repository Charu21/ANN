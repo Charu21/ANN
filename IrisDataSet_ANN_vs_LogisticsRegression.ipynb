{
  "cells": [
    {
      "cell_type": "markdown",
      "metadata": {
        "id": "view-in-github",
        "colab_type": "text"
      },
      "source": [
        "<a href=\"https://colab.research.google.com/github/Charu21/ANN/blob/main/IrisDataSet_ANN_vs_LogisticsRegression.ipynb\" target=\"_parent\"><img src=\"https://colab.research.google.com/assets/colab-badge.svg\" alt=\"Open In Colab\"/></a>"
      ]
    },
    {
      "cell_type": "code",
      "execution_count": 137,
      "metadata": {
        "id": "_UiQNBY3UyXj"
      },
      "outputs": [],
      "source": [
        "import pandas as pd\n",
        "import numpy as np\n",
        "import tensorflow as tf\n",
        "import keras\n",
        "from sklearn.linear_model import LogisticRegression\n",
        "from tensorflow.keras.models import Sequential\n",
        "from tensorflow.keras.layers import Dense, Dropout\n",
        "from tensorflow.keras.optimizers import RMSprop\n",
        "from tensorflow.keras.datasets import mnist\n",
        "from matplotlib import pyplot"
      ]
    },
    {
      "cell_type": "code",
      "source": [
        "iris_df = pd.read_csv('iris.csv')"
      ],
      "metadata": {
        "id": "NzhDzsukWpjI"
      },
      "execution_count": 138,
      "outputs": []
    },
    {
      "cell_type": "code",
      "source": [
        "iris_df.shape"
      ],
      "metadata": {
        "colab": {
          "base_uri": "https://localhost:8080/"
        },
        "id": "8-S5MpqdWzx3",
        "outputId": "fdfd0a55-2475-46c0-c234-93528ead9d32"
      },
      "execution_count": 139,
      "outputs": [
        {
          "output_type": "execute_result",
          "data": {
            "text/plain": [
              "(150, 5)"
            ]
          },
          "metadata": {},
          "execution_count": 139
        }
      ]
    },
    {
      "cell_type": "code",
      "source": [
        "print(iris_df.head())"
      ],
      "metadata": {
        "colab": {
          "base_uri": "https://localhost:8080/"
        },
        "id": "f0xpD8gHWD1B",
        "outputId": "e0649b66-5cfc-49f7-a5b3-13de17b13e4f"
      },
      "execution_count": 140,
      "outputs": [
        {
          "output_type": "stream",
          "name": "stdout",
          "text": [
            "   sepal_length  sepal_width  petal_length  petal_width species\n",
            "0           5.1          3.5           1.4          0.2  setosa\n",
            "1           4.9          3.0           1.4          0.2  setosa\n",
            "2           4.7          3.2           1.3          0.2  setosa\n",
            "3           4.6          3.1           1.5          0.2  setosa\n",
            "4           5.0          3.6           1.4          0.2  setosa\n"
          ]
        }
      ]
    },
    {
      "cell_type": "code",
      "source": [
        "iris_df['species'].unique()"
      ],
      "metadata": {
        "colab": {
          "base_uri": "https://localhost:8080/"
        },
        "id": "WJTnTvYIWzvC",
        "outputId": "421d1a01-917a-4278-cc7e-9e6b765f1d10"
      },
      "execution_count": 141,
      "outputs": [
        {
          "output_type": "execute_result",
          "data": {
            "text/plain": [
              "array(['setosa', 'versicolor', 'virginica'], dtype=object)"
            ]
          },
          "metadata": {},
          "execution_count": 141
        }
      ]
    },
    {
      "cell_type": "code",
      "source": [],
      "metadata": {
        "id": "tGT9JIl6aTLd"
      },
      "execution_count": 141,
      "outputs": []
    },
    {
      "cell_type": "code",
      "source": [
        " # Import label encoder\n",
        "from sklearn import preprocessing\n",
        "\n",
        "# label_encoder object knows\n",
        "# how to understand word labels.\n",
        "label_encoder = preprocessing.LabelEncoder()\n",
        "\n",
        "# Encode labels in column 'species'.\n",
        "iris_df['species']= label_encoder.fit_transform(iris_df['species'])\n",
        "\n",
        "iris_df['species'].unique()"
      ],
      "metadata": {
        "colab": {
          "base_uri": "https://localhost:8080/"
        },
        "id": "rqOA49JlZHG5",
        "outputId": "2d32da12-6f36-4542-e7a0-ba3275657235"
      },
      "execution_count": 142,
      "outputs": [
        {
          "output_type": "execute_result",
          "data": {
            "text/plain": [
              "array([0, 1, 2])"
            ]
          },
          "metadata": {},
          "execution_count": 142
        }
      ]
    },
    {
      "cell_type": "code",
      "source": [
        "X = iris_df.drop('species', axis = 1)\n",
        "Y = iris_df['species']"
      ],
      "metadata": {
        "id": "Uw1_2b9eao21"
      },
      "execution_count": 143,
      "outputs": []
    },
    {
      "cell_type": "code",
      "source": [
        "print(iris_df.head())"
      ],
      "metadata": {
        "colab": {
          "base_uri": "https://localhost:8080/"
        },
        "id": "q-5UOZqMV9oJ",
        "outputId": "d0da0e77-16d6-4867-e08d-67d224b73d6a"
      },
      "execution_count": 144,
      "outputs": [
        {
          "output_type": "stream",
          "name": "stdout",
          "text": [
            "   sepal_length  sepal_width  petal_length  petal_width  species\n",
            "0           5.1          3.5           1.4          0.2        0\n",
            "1           4.9          3.0           1.4          0.2        0\n",
            "2           4.7          3.2           1.3          0.2        0\n",
            "3           4.6          3.1           1.5          0.2        0\n",
            "4           5.0          3.6           1.4          0.2        0\n"
          ]
        }
      ]
    },
    {
      "cell_type": "code",
      "source": [],
      "metadata": {
        "id": "MqUuJYCwZ08t"
      },
      "execution_count": 144,
      "outputs": []
    },
    {
      "cell_type": "code",
      "source": [
        "# Normalization\n",
        "min_max_scaler = preprocessing.MinMaxScaler()\n",
        "scaled_values = min_max_scaler.fit_transform(X)\n",
        "X.loc[:,:] = scaled_values"
      ],
      "metadata": {
        "id": "WtUnVk4gYO8N"
      },
      "execution_count": 145,
      "outputs": []
    },
    {
      "cell_type": "code",
      "execution_count": 146,
      "metadata": {
        "id": "7OSz7HbiUyXo"
      },
      "outputs": [],
      "source": [
        "# Iris dataset parameters.\n",
        "num_classes = 3 #\n",
        "num_features = 5 #\n",
        "\n",
        "# Training parameters.\n",
        "learning_rate = 0.1\n",
        "training_steps = 2000\n",
        "batch_size = 256\n",
        "display_step = 100\n",
        "epochs = 20\n",
        "\n",
        "# Network parameters.\n",
        "n_hidden_1 = 128 # 1st layer number of neurons.\n",
        "n_hidden_2 = 256 # 2nd layer number of neurons."
      ]
    },
    {
      "cell_type": "code",
      "source": [
        "from sklearn.model_selection import train_test_split\n",
        "x_train, x_test, y_train, y_test = train_test_split(X , Y, test_size = 0.3, random_state = 2)\n",
        "print('Train - ',x_train.shape)\n",
        "print('Test - ',x_test.shape)"
      ],
      "metadata": {
        "colab": {
          "base_uri": "https://localhost:8080/"
        },
        "id": "DVXxv0XfXbLp",
        "outputId": "c43977c6-7db3-4951-fd12-7e26dd150037"
      },
      "execution_count": 147,
      "outputs": [
        {
          "output_type": "stream",
          "name": "stdout",
          "text": [
            "Train -  (105, 4)\n",
            "Test -  (45, 4)\n"
          ]
        }
      ]
    },
    {
      "cell_type": "code",
      "execution_count": 150,
      "metadata": {
        "colab": {
          "base_uri": "https://localhost:8080/"
        },
        "id": "nkv8JowrUyXs",
        "outputId": "bd83241f-4b82-49f9-9696-e7f3ee04a152"
      },
      "outputs": [
        {
          "output_type": "execute_result",
          "data": {
            "text/plain": [
              "0"
            ]
          },
          "metadata": {},
          "execution_count": 150
        }
      ],
      "source": [
        "y_train[0]"
      ]
    },
    {
      "cell_type": "code",
      "execution_count": 151,
      "metadata": {
        "id": "fIO6DJ4PUyXt"
      },
      "outputs": [],
      "source": [
        "y_train_ohe = keras.utils.np_utils.to_categorical(y_train, num_classes)\n",
        "y_test_ohe = keras.utils.np_utils.to_categorical(y_test, num_classes)"
      ]
    },
    {
      "cell_type": "code",
      "source": [
        "y_train\n"
      ],
      "metadata": {
        "colab": {
          "base_uri": "https://localhost:8080/"
        },
        "id": "B8TB7vooaARo",
        "outputId": "3b6fbac3-a14d-4006-fb3f-326b4d2e198b"
      },
      "execution_count": 152,
      "outputs": [
        {
          "output_type": "execute_result",
          "data": {
            "text/plain": [
              "134    2\n",
              "28     0\n",
              "65     1\n",
              "0      0\n",
              "27     0\n",
              "      ..\n",
              "75     1\n",
              "43     0\n",
              "22     0\n",
              "72     1\n",
              "15     0\n",
              "Name: species, Length: 105, dtype: int64"
            ]
          },
          "metadata": {},
          "execution_count": 152
        }
      ]
    },
    {
      "cell_type": "markdown",
      "metadata": {
        "id": "8qk4MWEqUyXt"
      },
      "source": [
        "# Logistics Regression"
      ]
    },
    {
      "cell_type": "code",
      "execution_count": 154,
      "metadata": {
        "colab": {
          "base_uri": "https://localhost:8080/"
        },
        "id": "9TaQJBpCUyXv",
        "outputId": "d78af51e-c939-454e-be9c-4306c5293755"
      },
      "outputs": [
        {
          "output_type": "stream",
          "name": "stdout",
          "text": [
            "c (3,)\n",
            "m (3, 4)\n",
            "Train Score r2 =  0.9047619047619048\n",
            "Test Score r2 =  0.9555555555555556\n",
            "Total Number of W nd B =  12\n"
          ]
        },
        {
          "output_type": "stream",
          "name": "stderr",
          "text": [
            "/usr/local/lib/python3.10/dist-packages/sklearn/linear_model/_logistic.py:458: ConvergenceWarning: lbfgs failed to converge (status=1):\n",
            "STOP: TOTAL NO. of ITERATIONS REACHED LIMIT.\n",
            "\n",
            "Increase the number of iterations (max_iter) or scale the data as shown in:\n",
            "    https://scikit-learn.org/stable/modules/preprocessing.html\n",
            "Please also refer to the documentation for alternative solver options:\n",
            "    https://scikit-learn.org/stable/modules/linear_model.html#logistic-regression\n",
            "  n_iter_i = _check_optimize_result(\n"
          ]
        }
      ],
      "source": [
        "#Build the logistic regression model\n",
        "logreg = LogisticRegression(max_iter=epochs)\n",
        "logreg.fit(x_train,y_train)# fit the model\n",
        "print('c',logreg.intercept_.shape) # see the intercept\n",
        "print('m',logreg.coef_.shape)# see the betas\n",
        "print('Train Score r2 = ',logreg.score(x_train, y_train))\n",
        "print('Test Score r2 = ',logreg.score(x_test, y_test))\n",
        "\n",
        "print('Total Number of W nd B = ', logreg.intercept_.shape[0] * logreg.coef_.shape[1])"
      ]
    },
    {
      "cell_type": "code",
      "execution_count": 155,
      "metadata": {
        "colab": {
          "base_uri": "https://localhost:8080/"
        },
        "id": "4TAjjp_0UyXy",
        "outputId": "9599d341-a41a-40b4-af77-0ea13d9d0933"
      },
      "outputs": [
        {
          "output_type": "stream",
          "name": "stdout",
          "text": [
            "[1 0 1 0 0]\n",
            "Model prediction: 1\n",
            "Model prediction: 0\n",
            "Model prediction: 1\n",
            "Model prediction: 0\n",
            "Model prediction: 0\n"
          ]
        }
      ],
      "source": [
        "# Predict 5 points from validation set.\n",
        "n = 5\n",
        "test_ip = x_train[:n]\n",
        "# test_ip\n",
        "predictions = logreg.predict(test_ip)\n",
        "print(predictions)\n",
        "\n",
        "# Display image and model prediction.\n",
        "for i in range(n):\n",
        "    # print(\"Y test:\")\n",
        "    test_ip.iloc[i-1]\n",
        "    print(\"Model prediction: %i\" % predictions[i])"
      ]
    },
    {
      "cell_type": "markdown",
      "metadata": {
        "id": "uV2mQzEAUyXz"
      },
      "source": [
        "# ANN"
      ]
    },
    {
      "cell_type": "code",
      "execution_count": 163,
      "metadata": {
        "colab": {
          "base_uri": "https://localhost:8080/"
        },
        "id": "7SQ2IIhEUyX0",
        "outputId": "bdbde5f2-89a0-49ec-c4cb-6ded461cf192"
      },
      "outputs": [
        {
          "output_type": "stream",
          "name": "stdout",
          "text": [
            "Model: \"sequential_8\"\n",
            "_________________________________________________________________\n",
            " Layer (type)                Output Shape              Param #   \n",
            "=================================================================\n",
            " dense_21 (Dense)            (None, 512)               2560      \n",
            "                                                                 \n",
            " dropout_14 (Dropout)        (None, 512)               0         \n",
            "                                                                 \n",
            " dense_22 (Dense)            (None, 512)               262656    \n",
            "                                                                 \n",
            " dropout_15 (Dropout)        (None, 512)               0         \n",
            "                                                                 \n",
            " dense_23 (Dense)            (None, 3)                 1539      \n",
            "                                                                 \n",
            "=================================================================\n",
            "Total params: 266,755\n",
            "Trainable params: 266,755\n",
            "Non-trainable params: 0\n",
            "_________________________________________________________________\n"
          ]
        }
      ],
      "source": [
        "# build NN model\n",
        "model = Sequential()\n",
        "# model.add()\n",
        "model.add(Dense(512, activation='relu', input_shape=(4,)))\n",
        "model.add(Dropout(0.2))\n",
        "model.add(Dense(512, activation='relu', input_shape=(4,)))\n",
        "model.add(Dropout(0.2))\n",
        "model.add(Dense(num_classes, activation='softmax'))\n",
        "model.compile(loss='categorical_crossentropy',optimizer='adam',metrics=['accuracy'])\n",
        "\n",
        "model.summary()"
      ]
    },
    {
      "cell_type": "code",
      "execution_count": 164,
      "metadata": {
        "id": "gMmlrmVZUyX0"
      },
      "outputs": [],
      "source": [
        "# Compile\n",
        "# model.compile(loss='categorical_crossentropy',\n",
        "#               optimizer=RMSprop(),\n",
        "#               metrics=['accuracy'])"
      ]
    },
    {
      "cell_type": "code",
      "execution_count": 165,
      "metadata": {
        "id": "z2mKDSf1UyX1"
      },
      "outputs": [],
      "source": [
        "# Training parameters.\n",
        "learning_rate = 0.1\n",
        "batch_size = 20\n",
        "display_step = 100\n",
        "epochs = 20"
      ]
    },
    {
      "cell_type": "code",
      "execution_count": 166,
      "metadata": {
        "colab": {
          "base_uri": "https://localhost:8080/"
        },
        "id": "WFvWGLWOUyX1",
        "outputId": "6ace6aab-c86b-4fcb-f347-16334e0411f7"
      },
      "outputs": [
        {
          "output_type": "stream",
          "name": "stdout",
          "text": [
            "Epoch 1/20\n",
            "6/6 [==============================] - 1s 49ms/step - loss: 1.0122 - accuracy: 0.5619 - val_loss: 0.8851 - val_accuracy: 0.6444\n",
            "Epoch 2/20\n",
            "6/6 [==============================] - 0s 13ms/step - loss: 0.8048 - accuracy: 0.6667 - val_loss: 0.7146 - val_accuracy: 0.6667\n",
            "Epoch 3/20\n",
            "6/6 [==============================] - 0s 16ms/step - loss: 0.6535 - accuracy: 0.6667 - val_loss: 0.5660 - val_accuracy: 0.6667\n",
            "Epoch 4/20\n",
            "6/6 [==============================] - 0s 16ms/step - loss: 0.5377 - accuracy: 0.7238 - val_loss: 0.4636 - val_accuracy: 0.8444\n",
            "Epoch 5/20\n",
            "6/6 [==============================] - 0s 17ms/step - loss: 0.4605 - accuracy: 0.8381 - val_loss: 0.4297 - val_accuracy: 0.6667\n",
            "Epoch 6/20\n",
            "6/6 [==============================] - 0s 13ms/step - loss: 0.4183 - accuracy: 0.7524 - val_loss: 0.3828 - val_accuracy: 0.8000\n",
            "Epoch 7/20\n",
            "6/6 [==============================] - 0s 18ms/step - loss: 0.3718 - accuracy: 0.8762 - val_loss: 0.3458 - val_accuracy: 0.8667\n",
            "Epoch 8/20\n",
            "6/6 [==============================] - 0s 16ms/step - loss: 0.3413 - accuracy: 0.9429 - val_loss: 0.3184 - val_accuracy: 0.8889\n",
            "Epoch 9/20\n",
            "6/6 [==============================] - 0s 13ms/step - loss: 0.3097 - accuracy: 0.9143 - val_loss: 0.2790 - val_accuracy: 0.8889\n",
            "Epoch 10/20\n",
            "6/6 [==============================] - 0s 16ms/step - loss: 0.2805 - accuracy: 0.9143 - val_loss: 0.2521 - val_accuracy: 0.8889\n",
            "Epoch 11/20\n",
            "6/6 [==============================] - 0s 16ms/step - loss: 0.2661 - accuracy: 0.9048 - val_loss: 0.2322 - val_accuracy: 0.9333\n",
            "Epoch 12/20\n",
            "6/6 [==============================] - 0s 19ms/step - loss: 0.2091 - accuracy: 0.9333 - val_loss: 0.1976 - val_accuracy: 0.9111\n",
            "Epoch 13/20\n",
            "6/6 [==============================] - 0s 13ms/step - loss: 0.1962 - accuracy: 0.9524 - val_loss: 0.1801 - val_accuracy: 0.9333\n",
            "Epoch 14/20\n",
            "6/6 [==============================] - 0s 13ms/step - loss: 0.1810 - accuracy: 0.9429 - val_loss: 0.1641 - val_accuracy: 0.9333\n",
            "Epoch 15/20\n",
            "6/6 [==============================] - 0s 13ms/step - loss: 0.1625 - accuracy: 0.9429 - val_loss: 0.1512 - val_accuracy: 0.9556\n",
            "Epoch 16/20\n",
            "6/6 [==============================] - 0s 13ms/step - loss: 0.1582 - accuracy: 0.9619 - val_loss: 0.1304 - val_accuracy: 0.9778\n",
            "Epoch 17/20\n",
            "6/6 [==============================] - 0s 16ms/step - loss: 0.1857 - accuracy: 0.8952 - val_loss: 0.1240 - val_accuracy: 0.9778\n",
            "Epoch 18/20\n",
            "6/6 [==============================] - 0s 14ms/step - loss: 0.1326 - accuracy: 0.9619 - val_loss: 0.1219 - val_accuracy: 0.9778\n",
            "Epoch 19/20\n",
            "6/6 [==============================] - 0s 13ms/step - loss: 0.1494 - accuracy: 0.9143 - val_loss: 0.1040 - val_accuracy: 0.9778\n",
            "Epoch 20/20\n",
            "6/6 [==============================] - 0s 13ms/step - loss: 0.1301 - accuracy: 0.9619 - val_loss: 0.1220 - val_accuracy: 0.9556\n",
            "Test loss: 0.12197506427764893\n",
            "Test accuracy: 0.9555555582046509\n"
          ]
        }
      ],
      "source": [
        "history = model.fit(x_train, y_train_ohe,\n",
        "                    batch_size=batch_size,\n",
        "                    epochs=epochs,\n",
        "                    validation_data=(x_test, y_test_ohe))\n",
        "# Model Eval\n",
        "score = model.evaluate(x_test, y_test_ohe, verbose=0)\n",
        "print('Test loss:', score[0])\n",
        "print('Test accuracy:', score[1])"
      ]
    },
    {
      "cell_type": "code",
      "execution_count": 169,
      "metadata": {
        "colab": {
          "base_uri": "https://localhost:8080/"
        },
        "id": "8l2uIZxgUyX2",
        "outputId": "02dbba8e-bc43-4121-bfc5-8cf9634df348"
      },
      "outputs": [
        {
          "output_type": "stream",
          "name": "stdout",
          "text": [
            "2/2 [==============================] - 0s 10ms/step\n",
            "Accuracy of the dataset 95.55555555555556\n"
          ]
        }
      ],
      "source": [
        " # Predict\n",
        "prediction=model.predict(x_test)\n",
        "length=len(prediction)\n",
        "y_label=np.argmax(y_test_ohe,axis=1)\n",
        "predict_label=np.argmax(prediction,axis=1)\n",
        "\n",
        "accuracy=np.sum(y_label==predict_label)/length * 100\n",
        "print(\"Accuracy of the dataset\",accuracy )"
      ]
    },
    {
      "cell_type": "code",
      "execution_count": 170,
      "metadata": {
        "colab": {
          "base_uri": "https://localhost:8080/",
          "height": 430
        },
        "id": "ziqZn3VyUyX3",
        "outputId": "6fcf51a3-c892-4690-9ba8-fb4e5caccd96"
      },
      "outputs": [
        {
          "output_type": "display_data",
          "data": {
            "text/plain": [
              "<Figure size 640x480 with 1 Axes>"
            ],
            "image/png": "[encoded data removed]"
          },
          "metadata": {}
        }
      ],
      "source": [
        "pyplot.plot(history.history['accuracy'], label='train')\n",
        "pyplot.plot(history.history['val_accuracy'], label='test')\n",
        "pyplot.legend()\n",
        "pyplot.show()"
      ]
    },
    {
      "cell_type": "code",
      "execution_count": null,
      "metadata": {
        "id": "l57tlhUXUyX4"
      },
      "outputs": [],
      "source": []
    }
  ],
  "metadata": {
    "kernelspec": {
      "display_name": "Python 3",
      "language": "python",
      "name": "python3"
    },
    "language_info": {
      "codemirror_mode": {
        "name": "ipython",
        "version": 3
      },
      "file_extension": ".py",
      "mimetype": "text/x-python",
      "name": "python",
      "nbconvert_exporter": "python",
      "pygments_lexer": "ipython3",
      "version": "3.8.8"
    },
    "vscode": {
      "interpreter": {
        "hash": "590a023392bfbd6bf25d040f547d42ca7bfa1d7d06eb05be9ee62c62a8e24a8d"
      }
    },
    "colab": {
      "provenance": [],
      "include_colab_link": true
    }
  },
  "nbformat": 4,
  "nbformat_minor": 0
}